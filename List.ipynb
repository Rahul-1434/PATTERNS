{
 "cells": [
  {
   "cell_type": "raw",
   "id": "2ecff21e-3ac4-412a-8ca7-ee92c9c22a1d",
   "metadata": {},
   "source": [
    "1"
   ]
  },
  {
   "cell_type": "code",
   "execution_count": 11,
   "id": "6da47f00-93d8-402f-8e67-f38f404c7a41",
   "metadata": {},
   "outputs": [
    {
     "name": "stdin",
     "output_type": "stream",
     "text": [
      "enter no of elements: 4\n",
      "enter elements 1 2 3 4\n"
     ]
    },
    {
     "name": "stdout",
     "output_type": "stream",
     "text": [
      "[1, 2, 3, 4]\n"
     ]
    }
   ],
   "source": [
    "n=int(input('enter no of elements:'))\n",
    "l=list(map(int,input('enter elements').split()))\n",
    "print(l)"
   ]
  },
  {
   "cell_type": "raw",
   "id": "34f45041-a7de-4aff-8097-0611febbb0eb",
   "metadata": {},
   "source": [
    "2"
   ]
  },
  {
   "cell_type": "code",
   "execution_count": null,
   "id": "5a070cc7-aca5-4ae8-b6f5-93e360b18ec3",
   "metadata": {},
   "outputs": [],
   "source": []
  },
  {
   "cell_type": "raw",
   "id": "51789575-704b-41a3-8007-b8130dd5621a",
   "metadata": {},
   "source": [
    "3"
   ]
  },
  {
   "cell_type": "raw",
   "id": "00c50342-68d9-446b-8b23-8cb7fe594425",
   "metadata": {
    "scrolled": true
   },
   "source": [
    "max(l)"
   ]
  },
  {
   "cell_type": "raw",
   "id": "5417de9d-8c3c-452f-956e-504e38bb7986",
   "metadata": {},
   "source": [
    "4"
   ]
  },
  {
   "cell_type": "code",
   "execution_count": 16,
   "id": "2481606c-f5b5-4bba-95fa-226f1a852dc7",
   "metadata": {},
   "outputs": [
    {
     "name": "stdout",
     "output_type": "stream",
     "text": [
      "even list: [2, 4]\n",
      "odd list: [1, 3]\n"
     ]
    }
   ],
   "source": [
    "e=[]\n",
    "o=[]\n",
    "for i in l:\n",
    "    if i%2==0:\n",
    "        e.append(i)\n",
    "    else:\n",
    "        o.append(i)\n",
    "print('even list:',e)\n",
    "print('odd list:',o)\n"
   ]
  },
  {
   "cell_type": "markdown",
   "id": "49eb9ab2-ca07-428b-8a04-561b8f96a634",
   "metadata": {},
   "source": [
    "5"
   ]
  },
  {
   "cell_type": "code",
   "execution_count": 14,
   "id": "3eb4ccb8-82e0-4e68-a4ed-4a5ba7057ea0",
   "metadata": {},
   "outputs": [
    {
     "data": {
      "text/plain": [
       "10"
      ]
     },
     "execution_count": 14,
     "metadata": {},
     "output_type": "execute_result"
    }
   ],
   "source": [
    "sum(l)"
   ]
  },
  {
   "cell_type": "raw",
   "id": "6649d6f8-866d-4ba3-b16c-933ee63ea6ac",
   "metadata": {},
   "source": [
    "6"
   ]
  },
  {
   "cell_type": "code",
   "execution_count": 15,
   "id": "3dedfcbb-9ba8-4987-b877-9780d11b0063",
   "metadata": {},
   "outputs": [
    {
     "data": {
      "text/plain": [
       "1"
      ]
     },
     "execution_count": 15,
     "metadata": {},
     "output_type": "execute_result"
    }
   ],
   "source": [
    "min(l)"
   ]
  },
  {
   "cell_type": "raw",
   "id": "ac9214b1-0906-4e38-9950-9a0fd8865004",
   "metadata": {},
   "source": [
    "7"
   ]
  },
  {
   "cell_type": "code",
   "execution_count": 18,
   "id": "bf161e67-523c-43b4-8440-f01eb2a7e3e9",
   "metadata": {},
   "outputs": [
    {
     "name": "stdin",
     "output_type": "stream",
     "text": [
      "enter a element to search an element 4\n"
     ]
    },
    {
     "name": "stdout",
     "output_type": "stream",
     "text": [
      "4 is present in given list\n"
     ]
    }
   ],
   "source": [
    "s=int(input('enter a element to search an element'))\n",
    "if s in l:\n",
    "    print(s,'is present in given list')\n",
    "else:\n",
    "    print(s,'is not present in given list')"
   ]
  },
  {
   "cell_type": "raw",
   "id": "fc9558a8-b677-4083-8fd9-6865fefbe373",
   "metadata": {},
   "source": [
    "8"
   ]
  },
  {
   "cell_type": "code",
   "execution_count": 22,
   "id": "ea3aaad1-dd6a-4ed0-be5d-0f82125fa91b",
   "metadata": {},
   "outputs": [
    {
     "name": "stdin",
     "output_type": "stream",
     "text": [
      "enter a element to search an element 4\n"
     ]
    },
    {
     "name": "stdout",
     "output_type": "stream",
     "text": [
      "1\n"
     ]
    }
   ],
   "source": [
    "val=int(input('enter a element to search an element'))\n",
    "x=l.count(val)\n",
    "print(x)"
   ]
  },
  {
   "cell_type": "raw",
   "id": "af2b655c-46f2-4770-9256-77cf6be8c81a",
   "metadata": {},
   "source": [
    "9"
   ]
  },
  {
   "cell_type": "code",
   "execution_count": 26,
   "id": "afd98a82-95ba-480b-86d0-6fe010c02c11",
   "metadata": {},
   "outputs": [
    {
     "name": "stdout",
     "output_type": "stream",
     "text": [
      "[4, 3, 2, 1]\n"
     ]
    }
   ],
   "source": [
    "r=l[::-1]\n",
    "print(r)"
   ]
  },
  {
   "cell_type": "raw",
   "id": "7dc64b99-9658-4d1d-a64c-dd45d42ca445",
   "metadata": {},
   "source": [
    "10"
   ]
  },
  {
   "cell_type": "code",
   "execution_count": 28,
   "id": "9a0542aa-0565-483a-ae45-3d29a3d71428",
   "metadata": {},
   "outputs": [
    {
     "name": "stdout",
     "output_type": "stream",
     "text": [
      "[1, 2, 3, 4]\n"
     ]
    }
   ],
   "source": [
    "sort=l.sort()\n",
    "print(sort)"
   ]
  },
  {
   "cell_type": "code",
   "execution_count": null,
   "id": "4caf1094-4986-420c-90de-e8e3be0e336c",
   "metadata": {},
   "outputs": [],
   "source": []
  }
 ],
 "metadata": {
  "kernelspec": {
   "display_name": "Python 3 (ipykernel)",
   "language": "python",
   "name": "python3"
  },
  "language_info": {
   "codemirror_mode": {
    "name": "ipython",
    "version": 3
   },
   "file_extension": ".py",
   "mimetype": "text/x-python",
   "name": "python",
   "nbconvert_exporter": "python",
   "pygments_lexer": "ipython3",
   "version": "3.12.4"
  }
 },
 "nbformat": 4,
 "nbformat_minor": 5
}
